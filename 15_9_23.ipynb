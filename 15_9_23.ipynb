{
  "nbformat": 4,
  "nbformat_minor": 0,
  "metadata": {
    "colab": {
      "provenance": []
    },
    "kernelspec": {
      "name": "python3",
      "display_name": "Python 3"
    },
    "language_info": {
      "name": "python"
    }
  },
  "cells": [
    {
      "cell_type": "markdown",
      "source": [
        "##Task 1 Write a code to print UMIT\n",
        "\n",
        "\n"
      ],
      "metadata": {
        "id": "OJKWwnMC-7su"
      }
    },
    {
      "cell_type": "code",
      "source": [
        "print (2+5)"
      ],
      "metadata": {
        "colab": {
          "base_uri": "https://localhost:8080/"
        },
        "id": "4m_EQxt89z81",
        "outputId": "79d64b08-3c51-4373-a09c-a5e093912152"
      },
      "execution_count": null,
      "outputs": [
        {
          "output_type": "stream",
          "name": "stdout",
          "text": [
            "7\n"
          ]
        }
      ]
    },
    {
      "cell_type": "code",
      "execution_count": null,
      "metadata": {
        "colab": {
          "base_uri": "https://localhost:8080/"
        },
        "id": "U3noGJxR8wQo",
        "outputId": "2d8948ac-43d5-485b-8774-b6f433f1c538"
      },
      "outputs": [
        {
          "output_type": "stream",
          "name": "stdout",
          "text": [
            "UMIT\n"
          ]
        }
      ],
      "source": [
        "print('UMIT')"
      ]
    },
    {
      "cell_type": "markdown",
      "source": [
        "#Q Write application of python\n",
        "\n",
        "- Web Development\n",
        " - Gaming application\n",
        "- Chatbots"
      ],
      "metadata": {
        "id": "Hf_uXDW0_3vH"
      }
    }
  ]
}